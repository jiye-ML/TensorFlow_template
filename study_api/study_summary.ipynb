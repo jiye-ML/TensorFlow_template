{
 "cells": [
  {
   "cell_type": "code",
   "execution_count": 1,
   "metadata": {
    "collapsed": false
   },
   "outputs": [],
   "source": [
    "import tensorflow as tf"
   ]
  },
  {
   "cell_type": "markdown",
   "metadata": {},
   "source": [
    "# tf.summary.FileWriter\n",
    "\n",
    "* https://www.tensorflow.org/api_docs/python/tf/summary/FileWriter\n",
    "\n",
    "* FileWriter类提供了一种机制，创建一个 event file 在给定的目录下，然后把summaries和events加入到里面，这个类异步更新文件内容。这允许训练程序调用方法加入数据到文件目录在训练循环阶段，却不影响训练。\n",
    "* 初始化\n",
    "```\n",
    "__init__(\n",
    "    logdir,  # A string. 事件文件所在的目录\n",
    "    graph=None, # A Graph object, such as sess.graph.\n",
    "    max_queue=10, # Integer. Size of the queue for pending events and summaries.\n",
    "    flush_secs=120, # Number. How often, in seconds, to flush the pending events and summaries to disk.\n",
    "    graph_def=None, # 遗弃\n",
    "    filename_suffix=None # A string. 事件文件的前缀\n",
    ")\n",
    "```\n",
    "* TensorBoard将文文件中选择图然后展示，这样你就能交互探索你建立的图。\n",
    "```\n",
    "...构建图...\n",
    "# Launch the graph in a session.\n",
    "sess = tf.Session()\n",
    "# 写入事件文件\n",
    "writer = tf.summary.FileWriter(<some-directory>, sess.graph)\n",
    "```\n",
    "* @compatibility(eager) FileWriter 和 eager execution不兼容. 在eager模式下写入 TensorBoard summaries, use tf.contrib.summary instead. @end_compatbility"
   ]
  },
  {
   "cell_type": "code",
   "execution_count": null,
   "metadata": {
    "collapsed": true
   },
   "outputs": [],
   "source": [
    ""
   ]
  }
 ],
 "metadata": {
  "kernelspec": {
   "display_name": "Python 3",
   "language": "python",
   "name": "python3"
  },
  "language_info": {
   "codemirror_mode": {
    "name": "ipython",
    "version": 3.0
   },
   "file_extension": ".py",
   "mimetype": "text/x-python",
   "name": "python",
   "nbconvert_exporter": "python",
   "pygments_lexer": "ipython3",
   "version": "3.5.3"
  }
 },
 "nbformat": 4,
 "nbformat_minor": 0
}